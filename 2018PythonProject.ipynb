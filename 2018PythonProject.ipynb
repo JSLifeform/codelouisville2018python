{
 "cells": [
  {
   "cell_type": "code",
   "execution_count": 91,
   "metadata": {},
   "outputs": [
    {
     "name": "stdout",
     "output_type": "stream",
     "text": [
      "done\n"
     ]
    },
    {
     "data": {
      "image/png": "[encoded data removed]",
      "text/plain": [
       "<Figure size 432x288 with 1 Axes>"
      ]
     },
     "metadata": {},
     "output_type": "display_data"
    }
   ],
   "source": [
    "import sqlite3\n",
    "import os\n",
    "import matplotlib.pyplot as plt\n",
    "import numpy as np\n",
    "\n",
    "whitelist = []\n",
    "greenlist = []\n",
    "bluelist = []\n",
    "blacklist = []\n",
    "redlist = []\n",
    "fulllist = []\n",
    "connection = sqlite3.connect(\"cardtable.db\")\n",
    "cursor = connection.cursor()\n",
    "cursor.execute(\"SELECT Ncolor, Nflavor FROM Ncards\")\n",
    "results = cursor.fetchall()\n",
    "\n",
    "createtable = \"DROP TABLE IF EXISTS pulledcards;\"\n",
    "cursor.execute(createtable)\n",
    "createtable = \"CREATE TABLE pulledcards(Color, Flavortext);\"\n",
    "cursor.execute(createtable)\n",
    "for color, flavortext in results:\n",
    "    cursor.execute(\"INSERT INTO pulledcards(Color, Flavortext) VALUES(?,?)\", (color, flavortext))\n",
    "connection.commit()\n",
    "connection.close()\n",
    "print(\"done\")\n",
    "\n",
    "connection = sqlite3.connect(\"cardtable.db\")\n",
    "cursor = connection.cursor()\n",
    "cursor.execute(\"SELECT Color, Flavortext FROM pulledcards\")\n",
    "newresults = cursor.fetchall()\n",
    "for cardflavor in newresults:\n",
    "    for letter in cardflavor[0]:\n",
    "        if letter == \"W\":\n",
    "            whitelist.append(len(cardflavor[1]))\n",
    "        elif letter == \"U\":\n",
    "            bluelist.append(len(cardflavor[1]))\n",
    "        elif letter == \"B\":\n",
    "            blacklist.append(len(cardflavor[1]))\n",
    "        elif letter == \"R\":\n",
    "            redlist.append(len(cardflavor[1]))\n",
    "        elif letter == \"G\":\n",
    "            greenlist.append(len(cardflavor[1]))            \n",
    "fulllist.append(whitelist)\n",
    "fulllist.append(bluelist)\n",
    "fulllist.append(blacklist)\n",
    "fulllist.append(bluelist)\n",
    "fulllist.append(greenlist)\n",
    "\n",
    "myplot = plt.boxplot(fulllist, patch_artist = True)\n",
    "plt.axis([0, 6, 0, 250])\n",
    "plt.xticks([1, 2, 3, 4, 5], ['White', 'Blue', 'Black', 'Red', 'Green'])\n",
    "colors = ['white', 'blue', 'black', 'red', 'green']\n",
    "for patch, color in zip(myplot['boxes'], colors):\n",
    "    patch.set_facecolor(color)\n",
    "plt.title(\"Distribution of Flavor Text Characters by Color\", fontsize = 14)\n",
    "plt.xlabel(\"5 Basic Colors in Magic\")\n",
    "plt.ylabel(\"Number of Characters in Flavor Text per Card\")\n",
    "plt.show()\n",
    "\n"
   ]
  }
 ],
 "metadata": {
  "kernelspec": {
   "display_name": "Python 3",
   "language": "python",
   "name": "python3"
  },
  "language_info": {
   "codemirror_mode": {
    "name": "ipython",
    "version": 3
   },
   "file_extension": ".py",
   "mimetype": "text/x-python",
   "name": "python",
   "nbconvert_exporter": "python",
   "pygments_lexer": "ipython3",
   "version": "3.6.5"
  }
 },
 "nbformat": 4,
 "nbformat_minor": 2
}
